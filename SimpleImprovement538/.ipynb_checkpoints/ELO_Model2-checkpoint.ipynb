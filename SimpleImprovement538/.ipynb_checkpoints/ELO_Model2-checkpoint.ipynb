{
 "cells": [
  {
   "cell_type": "code",
   "execution_count": 44,
   "metadata": {
    "collapsed": true
   },
   "outputs": [],
   "source": [
    "import pandas as pd\n",
    "import numpy as np\n",
    "import matplotlib.pyplot as plt\n",
    "from copy import deepcopy"
   ]
  },
  {
   "cell_type": "code",
   "execution_count": 23,
   "metadata": {
    "collapsed": true
   },
   "outputs": [],
   "source": [
    "# Read in Data\n",
    "data538 = pd.read_csv('nba_elo.csv')"
   ]
  },
  {
   "cell_type": "code",
   "execution_count": 24,
   "metadata": {
    "collapsed": true
   },
   "outputs": [],
   "source": [
    "def get_post_elo(home_team, home_team_elo, away_team, away_team_elo, mov, decay, home_adv):\n",
    "    \n",
    "    home_post_elo = get_k(mov, home_team_elo, away_team_elo, decay)*(int(mov>0) - get_win_prob(home_team_elo, away_team_elo, home_adv)) + home_team_elo\n",
    "    away_post_elo = away_team_elo + (home_team_elo - home_post_elo)\n",
    "    \n",
    "    return home_post_elo, away_post_elo\n",
    "    \n",
    "def get_win_prob(home_team_elo, away_team_elo, hfa):\n",
    "    home_team_elo += hfa\n",
    "    return 1.0/(1.0+(10.0**((away_team_elo-home_team_elo)/400)))\n",
    "\n",
    "def get_k(mov, team_elo, opp_elo, decay):\n",
    "    \n",
    "    if mov > 0: elo_dif = team_elo-opp_elo\n",
    "    else: elo_dif = opp_elo-team_elo\n",
    "    \n",
    "    K = 20.0*((np.abs(mov)+3.0)**.8)\n",
    "    K = K/(7.5 + .006*elo_dif)\n",
    "    return K*decay"
   ]
  },
  {
   "cell_type": "code",
   "execution_count": 72,
   "metadata": {},
   "outputs": [],
   "source": [
    "def train_k_decay(data, elos={}, season_start_epsilon=1.0, epsilon_decay=1.0, hfa=100):\n",
    "    \n",
    "    epsilon = season_start_epsilon\n",
    "    elo_dict = {}\n",
    "\n",
    "    val_dict_list = []\n",
    "    test_dict_list = []\n",
    "\n",
    "    # For Each Game\n",
    "    for i in range(data.shape[0]):\n",
    "\n",
    "        # Get Game Info\n",
    "        row = data.iloc[i]\n",
    "        team = row.team1\n",
    "        opp = row.team2\n",
    "        mov = row.score1 - row.score2\n",
    "\n",
    "        # Seasonal ELO Adjustment for Every Team\n",
    "        if i > 0 and row.season != data.iloc[i-1].season:\n",
    "            for k in elo_dict.keys():\n",
    "                elo_dict[k] = .75*elo_dict[k] + .25*1505\n",
    "\n",
    "            # Reset Epsilon\n",
    "            epsilon = season_start_epsilon\n",
    "\n",
    "        # If team's first game, use 538's elo to start\n",
    "        if team not in elo_dict.keys():\n",
    "            elo_dict[team] = row['elo1_pre']\n",
    "        if opp not in elo_dict.keys():\n",
    "            elo_dict[opp] = row['elo2_pre']\n",
    "\n",
    "        # Get Pre-Game ELO Estimates\n",
    "        team_pre = elo_dict[team]\n",
    "        opp_pre = elo_dict[opp]\n",
    "\n",
    "        # Adjust Epsilon Every 100 Games\n",
    "        if i % 100 == 0:\n",
    "            epsilon *= epsilon_decay\n",
    "\n",
    "        # Update ELOs based on game results    \n",
    "        elo_dict[team], elo_dict[opp] = get_post_elo(team, team_pre, opp, opp_pre, mov, epsilon, hfa)\n",
    "        \n",
    "    return elo_dict\n",
    "\n",
    "def k_decay_validation_dict(data, elos={}, season_start_epsilon=1.0, epsilon_decay=1.0, hfa=100):\n",
    "    \n",
    "    '''\n",
    "    Inputs:\n",
    "     - data: Set of games to validate the ELO model on\n",
    "     - elos: set of trained elos\n",
    "     - val_dfs: List of DataFrames that contain ELOs for every game\n",
    "     - season_start_epsilon\n",
    "     - epsilon_decay\n",
    "     - hfa: Home Field Advantage adjustment\n",
    "     \n",
    "     Outputs:\n",
    "      - Row for DataFrame of Total Loss and overall Prediction Accuracy, for every combination of hyperparameters\n",
    "    \n",
    "    '''\n",
    "    \n",
    "    elo_dict = elos\n",
    "    val_dict_list = []\n",
    "    epsilon = season_start_epsilon\n",
    "\n",
    "    for i in range(data.shape[0]):\n",
    "        \n",
    "        row = data.iloc[i]\n",
    "        team = row.team1\n",
    "        opp = row.team2\n",
    "        mov = row.score1 - row.score2\n",
    "\n",
    "        # Seasonal ELO Adjustment for Every Team\n",
    "        if i > 0 and row.season != data.iloc[i-1].season:\n",
    "            for k in elo_dict.keys():\n",
    "                elo_dict[k] = .75*elo_dict[k] + .25*1505\n",
    "\n",
    "            # Reset Epsilon\n",
    "            epsilon = season_start_epsilon\n",
    "\n",
    "        # If team's first game, use 538's elo to start\n",
    "        if team not in elo_dict.keys():\n",
    "            elo_dict[team] = row['elo1_pre']\n",
    "        if opp not in elo_dict.keys():\n",
    "            elo_dict[opp] = row['elo2_pre']\n",
    "\n",
    "        # Get Pre-Game ELO Estimates\n",
    "        team_pre = elo_dict[team]\n",
    "        opp_pre = elo_dict[opp]\n",
    "\n",
    "        # Adjust Epsilon Every 100 Games\n",
    "        if i % 100 == 0:\n",
    "            epsilon *= epsilon_decay\n",
    "\n",
    "        # Update ELOs based on game results    \n",
    "        elo_dict[team], elo_dict[opp] = get_post_elo(team, team_pre, opp, opp_pre, mov, epsilon, hfa)\n",
    "        \n",
    "        # Build DataFrame with Post-Game ELOs\n",
    "        team_post = elo_dict[team]\n",
    "        opp_post = elo_dict[opp]\n",
    "        val_dict_list.append({'team1': team, 'team2': opp, 'team1_pre': team_pre, 'team2_pre': opp_pre, 'team1_post': team_post, 'team2_post': opp_post, 'MOV': mov})\n",
    "\n",
    "    # New DataFrame of Elos Over Games in Validation Set\n",
    "    val_df = pd.DataFrame(val_dict_list)\n",
    "    \n",
    "    preds = []\n",
    "    losses = []\n",
    "    outcomes = []\n",
    "\n",
    "    # For Each Game in Validation Set\n",
    "    for i in range(val_df.shape[0]):\n",
    "\n",
    "        # Get Game Info\n",
    "        row = val_df.iloc[i]\n",
    "        mov = row.MOV \n",
    "        team_elo = row['team1_pre']\n",
    "        opp_elo = row['team2_pre']\n",
    "\n",
    "        # Get Predictions, Loss, and Results\n",
    "        preds.append(get_win_prob(team_elo, opp_elo, hfa) > .5)\n",
    "        losses.append(np.log(get_win_prob(team_elo, opp_elo, hfa) if mov > 0 else 1 - get_win_prob(team_elo, opp_elo, hfa)))\n",
    "        outcomes.append(mov > 0)\n",
    "\n",
    "    # True if Success, Otherwise False\n",
    "    success_list = [preds[j] == outcomes[j] for j in range(len(preds))]\n",
    "\n",
    "    # Make Row for DataFrame of Validation Results w/ Loss as accuracy\n",
    "    return {'total_loss': np.sum(losses), 'accuracy': np.mean(success_list), 'season_start_ep': season_start_epsilon, 'epsilon_decay': epsilon_decay, 'HFA': hfa}\n",
    "\n",
    "def test_model_dict(data, elos, season_start_epsilon=1.0, epsilon_decay=1.0, hfa=100):\n",
    "    '''\n",
    "    Inputs: All the model stuff\n",
    "    Outputs: Dictionary with model accuracy and total loss\n",
    "    '''\n",
    "    return k_decay_validation_dict(data, elos, season_start_epsilon=1.0, epsilon_decay=1.0, hfa=100)\n",
    "\n",
    "def fivethirtyeight_results_dict(data):\n",
    "    \n",
    "    # Get Predictions\n",
    "    elo_preds = [get_win_prob(team_elo, opp_elo, 100) > .5 for team_elo, opp_elo in zip(data['elo1_pre'], data['elo2_pre'])]\n",
    "    \n",
    "    # Get Outcomes\n",
    "    outcomes = [s1 > s2 for s1, s2 in zip(data['score1'], data['score2'])]\n",
    "    \n",
    "    # Get Success Rates\n",
    "    elo_acc = np.mean([elo_preds[j] == outcomes[j] for j in range(len(elo_preds))])\n",
    "                \n",
    "    # Get Losses\n",
    "    data['win_prob'] = [get_win_prob(elo1, elo2, 100) for elo1, elo2 in zip(data['elo1_pre'], data['elo2_pre'])]            \n",
    "    elo_loss = np.sum([np.log(prob if outcome == 1 else 1 - prob) for prob, outcome in zip(data['win_prob'], outcomes)])\n",
    "                \n",
    "    return {'total_loss_538': elo_loss, 'accuracy_538': elo_acc, 'season_start_ep': 1, 'epsilon_decay': 1, 'HFA': 100}\n",
    "    "
   ]
  },
  {
   "cell_type": "code",
   "execution_count": 73,
   "metadata": {},
   "outputs": [],
   "source": [
    "# Training, Validation, and Test Sets\n",
    "\n",
    "VALIDATION_START_YEAR = 2015\n",
    "TEST_START_YEAR = 2017\n",
    "\n",
    "train_games = data538[data538['season'] >= 2010]\n",
    "train_games = train_games[train_games['season'] < VALIDATION_START_YEAR]\n",
    "\n",
    "validation_games = data538[data538['season'] >= VALIDATION_START_YEAR]\n",
    "validation_games = validation_games[validation_games['season'] < TEST_START_YEAR]\n",
    "\n",
    "test_games = data538[data538['season'] >= TEST_START_YEAR]\n",
    "test_games = test_games[test_games['season'] < 2019]"
   ]
  },
  {
   "cell_type": "code",
   "execution_count": 80,
   "metadata": {},
   "outputs": [
    {
     "ename": "ModuleNotFoundError",
     "evalue": "No module named 'hyperopt'",
     "output_type": "error",
     "traceback": [
      "\u001b[1;31m---------------------------------------------------------------------------\u001b[0m",
      "\u001b[1;31mModuleNotFoundError\u001b[0m                       Traceback (most recent call last)",
      "\u001b[1;32m<ipython-input-80-cdb4bc0bd610>\u001b[0m in \u001b[0;36m<module>\u001b[1;34m()\u001b[0m\n\u001b[0;32m      1\u001b[0m \u001b[1;31m# Hyperparameters to Tune\u001b[0m\u001b[1;33m\u001b[0m\u001b[1;33m\u001b[0m\u001b[0m\n\u001b[1;32m----> 2\u001b[1;33m \u001b[1;32mfrom\u001b[0m \u001b[0mhyperopt\u001b[0m \u001b[1;32mimport\u001b[0m \u001b[0mhp\u001b[0m\u001b[1;33m\u001b[0m\u001b[0m\n\u001b[0m\u001b[0;32m      3\u001b[0m \u001b[1;33m\u001b[0m\u001b[0m\n\u001b[0;32m      4\u001b[0m \u001b[0mseason_start_epsilons\u001b[0m \u001b[1;33m=\u001b[0m \u001b[1;33m[\u001b[0m\u001b[1;36m.95\u001b[0m\u001b[1;33m,\u001b[0m \u001b[1;36m1.0\u001b[0m\u001b[1;33m,\u001b[0m \u001b[1;36m1.1\u001b[0m\u001b[1;33m,\u001b[0m \u001b[1;36m1.2\u001b[0m\u001b[1;33m]\u001b[0m\u001b[1;33m\u001b[0m\u001b[0m\n\u001b[0;32m      5\u001b[0m \u001b[0mepsilon_decays\u001b[0m \u001b[1;33m=\u001b[0m \u001b[1;33m[\u001b[0m\u001b[1;36m.9\u001b[0m\u001b[1;33m,\u001b[0m \u001b[1;36m.95\u001b[0m\u001b[1;33m,\u001b[0m \u001b[1;36m.98\u001b[0m\u001b[1;33m,\u001b[0m \u001b[1;36m1.0\u001b[0m\u001b[1;33m,\u001b[0m \u001b[1;36m1.05\u001b[0m\u001b[1;33m]\u001b[0m\u001b[1;33m\u001b[0m\u001b[0m\n",
      "\u001b[1;31mModuleNotFoundError\u001b[0m: No module named 'hyperopt'"
     ]
    }
   ],
   "source": [
    "# Hyperparameters to Tune\n",
    "from hyperopt import hp\n",
    "\n",
    "season_start_epsilons = [.95, 1.0, 1.1, 1.2]\n",
    "epsilon_decays = [.9, .95, .98, 1.0, 1.05]\n",
    "hfas = [30, 40, 50, 60, 70, 80, 90, 100, 110, 120, 130, 140, 150]"
   ]
  },
  {
   "cell_type": "code",
   "execution_count": 78,
   "metadata": {},
   "outputs": [
    {
     "name": "stderr",
     "output_type": "stream",
     "text": [
      "C:\\Users\\ejohn\\Anaconda3\\lib\\site-packages\\ipykernel_launcher.py:120: RuntimeWarning: divide by zero encountered in log\n",
      "C:\\Users\\ejohn\\Anaconda3\\lib\\site-packages\\ipykernel_launcher.py:10: RuntimeWarning: overflow encountered in double_scalars\n",
      "  # Remove the CWD from sys.path while we load stuff.\n"
     ]
    },
    {
     "name": "stdout",
     "output_type": "stream",
     "text": [
      "Best Validation Loss:  -1560.83666557\n",
      "Accompanying Accuracy:  0.682146935668\n",
      "Accompanying start_epsilon:  1.3\n",
      "Accompanying epsilon_decay:  0.95\n",
      "Accompanying HFA:  100.0\n"
     ]
    },
    {
     "name": "stderr",
     "output_type": "stream",
     "text": [
      "C:\\Users\\ejohn\\Anaconda3\\lib\\site-packages\\numpy\\core\\fromnumeric.py:57: FutureWarning: 'argmax' is deprecated, use 'idxmax' instead. The behavior of 'argmax'\n",
      "will be corrected to return the positional maximum in the future.\n",
      "Use 'series.values.argmax' to get the position of the maximum now.\n",
      "  return getattr(obj, method)(*args, **kwds)\n"
     ]
    }
   ],
   "source": [
    "val_results_list = []\n",
    "\n",
    "for ep in season_start_epsilons:\n",
    "    for dec in epsilon_decays:\n",
    "\n",
    "        new_elos = train_k_decay(train_games, elos={}, season_start_epsilon=ep, epsilon_decay=dec, hfa=100)\n",
    "        val_results_list.append(k_decay_validation_dict(validation_games, elos=new_elos, season_start_epsilon=ep, epsilon_decay=dec, hfa=100))\n",
    "        \n",
    "val_results_df = pd.DataFrame(val_results_list)\n",
    "print('Best Validation Loss: ', np.max(val_results_df['total_loss']))\n",
    "print('Accompanying Accuracy: ', val_results_df.loc[np.argmax(val_results_df['total_loss'])].accuracy)\n",
    "print('Accompanying start_epsilon: ', val_results_df.loc[np.argmax(val_results_df['total_loss'])].season_start_ep)\n",
    "print('Accompanying epsilon_decay: ', val_results_df.loc[np.argmax(val_results_df['total_loss'])].epsilon_decay)\n",
    "print('Accompanying HFA: ', val_results_df.loc[np.argmax(val_results_df['total_loss'])].HFA)"
   ]
  },
  {
   "cell_type": "code",
   "execution_count": 74,
   "metadata": {},
   "outputs": [
    {
     "data": {
      "text/plain": [
       "{'HFA': 100,\n",
       " 'accuracy_538': 0.68062428625808913,\n",
       " 'epsilon_decay': 1,\n",
       " 'season_start_ep': 1,\n",
       " 'total_loss_538': -1559.0776770450607}"
      ]
     },
     "execution_count": 74,
     "metadata": {},
     "output_type": "execute_result"
    }
   ],
   "source": [
    "fivethirtyeight_results_dict(validation_games)"
   ]
  },
  {
   "cell_type": "code",
   "execution_count": null,
   "metadata": {
    "collapsed": true
   },
   "outputs": [],
   "source": [
    "print('Best Validation Accuracy: ', np.max(val_results_df['accuracy']))\n",
    "print('Best start_epsilon: ', val_results_df.loc[np.argmax(val_results_df['accuracy'])].season_start_ep)\n",
    "print('Best epsilon_decay: ', val_results_df.loc[np.argmax(val_results_df['accuracy'])].epsilon_decay)\n",
    "print('Best epsilon_decay: ', val_results_df.loc[np.argmax(val_results_df['accuracy'])].HFA)"
   ]
  }
 ],
 "metadata": {
  "kernelspec": {
   "display_name": "Python 3",
   "language": "python",
   "name": "python3"
  },
  "language_info": {
   "codemirror_mode": {
    "name": "ipython",
    "version": 3
   },
   "file_extension": ".py",
   "mimetype": "text/x-python",
   "name": "python",
   "nbconvert_exporter": "python",
   "pygments_lexer": "ipython3",
   "version": "3.6.6"
  }
 },
 "nbformat": 4,
 "nbformat_minor": 2
}
