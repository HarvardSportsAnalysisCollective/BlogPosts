{
 "cells": [
  {
   "cell_type": "code",
   "execution_count": 90,
   "metadata": {
    "collapsed": true
   },
   "outputs": [],
   "source": [
    "import numpy as np\n",
    "import pandas as pd\n",
    "from matplotlib import pyplot as plt"
   ]
  },
  {
   "cell_type": "markdown",
   "metadata": {},
   "source": [
    "## Pre-Tourney KenPom Data from 2002 through 2018"
   ]
  },
  {
   "cell_type": "code",
   "execution_count": 91,
   "metadata": {},
   "outputs": [
    {
     "data": {
      "text/html": [
       "<div>\n",
       "<style scoped>\n",
       "    .dataframe tbody tr th:only-of-type {\n",
       "        vertical-align: middle;\n",
       "    }\n",
       "\n",
       "    .dataframe tbody tr th {\n",
       "        vertical-align: top;\n",
       "    }\n",
       "\n",
       "    .dataframe thead th {\n",
       "        text-align: right;\n",
       "    }\n",
       "</style>\n",
       "<table border=\"1\" class=\"dataframe\">\n",
       "  <thead>\n",
       "    <tr style=\"text-align: right;\">\n",
       "      <th></th>\n",
       "      <th>Season</th>\n",
       "      <th>TeamName</th>\n",
       "      <th>Tempo</th>\n",
       "      <th>RankTempo</th>\n",
       "      <th>AdjTempo</th>\n",
       "      <th>RankAdjTempo</th>\n",
       "      <th>OE</th>\n",
       "      <th>RankOE</th>\n",
       "      <th>AdjOE</th>\n",
       "      <th>RankAdjOE</th>\n",
       "      <th>DE</th>\n",
       "      <th>RankDE</th>\n",
       "      <th>AdjDE</th>\n",
       "      <th>RankAdjDE</th>\n",
       "      <th>AdjEM</th>\n",
       "      <th>RankAdjEM</th>\n",
       "      <th>seed</th>\n",
       "    </tr>\n",
       "  </thead>\n",
       "  <tbody>\n",
       "    <tr>\n",
       "      <th>0</th>\n",
       "      <td>2002</td>\n",
       "      <td>Duke</td>\n",
       "      <td>77.0734</td>\n",
       "      <td>8</td>\n",
       "      <td>73.9016</td>\n",
       "      <td>10</td>\n",
       "      <td>116.373</td>\n",
       "      <td>1</td>\n",
       "      <td>121.374</td>\n",
       "      <td>1</td>\n",
       "      <td>90.2544</td>\n",
       "      <td>4</td>\n",
       "      <td>87.3522</td>\n",
       "      <td>2</td>\n",
       "      <td>34.0220</td>\n",
       "      <td>1</td>\n",
       "      <td>1.0</td>\n",
       "    </tr>\n",
       "    <tr>\n",
       "      <th>1</th>\n",
       "      <td>2002</td>\n",
       "      <td>Cincinnati</td>\n",
       "      <td>68.4368</td>\n",
       "      <td>212</td>\n",
       "      <td>66.9485</td>\n",
       "      <td>202</td>\n",
       "      <td>112.274</td>\n",
       "      <td>10</td>\n",
       "      <td>117.448</td>\n",
       "      <td>7</td>\n",
       "      <td>86.3924</td>\n",
       "      <td>1</td>\n",
       "      <td>86.6033</td>\n",
       "      <td>1</td>\n",
       "      <td>30.8442</td>\n",
       "      <td>2</td>\n",
       "      <td>1.0</td>\n",
       "    </tr>\n",
       "    <tr>\n",
       "      <th>2</th>\n",
       "      <td>2002</td>\n",
       "      <td>Kansas</td>\n",
       "      <td>79.0371</td>\n",
       "      <td>5</td>\n",
       "      <td>77.6019</td>\n",
       "      <td>2</td>\n",
       "      <td>114.544</td>\n",
       "      <td>4</td>\n",
       "      <td>118.100</td>\n",
       "      <td>5</td>\n",
       "      <td>94.4261</td>\n",
       "      <td>39</td>\n",
       "      <td>90.3113</td>\n",
       "      <td>7</td>\n",
       "      <td>27.7883</td>\n",
       "      <td>3</td>\n",
       "      <td>1.0</td>\n",
       "    </tr>\n",
       "    <tr>\n",
       "      <th>3</th>\n",
       "      <td>2002</td>\n",
       "      <td>Maryland</td>\n",
       "      <td>75.2758</td>\n",
       "      <td>20</td>\n",
       "      <td>73.3263</td>\n",
       "      <td>16</td>\n",
       "      <td>113.167</td>\n",
       "      <td>5</td>\n",
       "      <td>118.151</td>\n",
       "      <td>4</td>\n",
       "      <td>94.3706</td>\n",
       "      <td>36</td>\n",
       "      <td>91.2974</td>\n",
       "      <td>12</td>\n",
       "      <td>26.8534</td>\n",
       "      <td>4</td>\n",
       "      <td>1.0</td>\n",
       "    </tr>\n",
       "    <tr>\n",
       "      <th>4</th>\n",
       "      <td>2002</td>\n",
       "      <td>Florida</td>\n",
       "      <td>71.8971</td>\n",
       "      <td>84</td>\n",
       "      <td>69.5612</td>\n",
       "      <td>95</td>\n",
       "      <td>110.418</td>\n",
       "      <td>22</td>\n",
       "      <td>115.387</td>\n",
       "      <td>16</td>\n",
       "      <td>91.1250</td>\n",
       "      <td>7</td>\n",
       "      <td>89.6694</td>\n",
       "      <td>5</td>\n",
       "      <td>25.7176</td>\n",
       "      <td>5</td>\n",
       "      <td>5.0</td>\n",
       "    </tr>\n",
       "  </tbody>\n",
       "</table>\n",
       "</div>"
      ],
      "text/plain": [
       "   Season    TeamName    Tempo  RankTempo  AdjTempo  RankAdjTempo       OE  \\\n",
       "0    2002        Duke  77.0734          8   73.9016            10  116.373   \n",
       "1    2002  Cincinnati  68.4368        212   66.9485           202  112.274   \n",
       "2    2002      Kansas  79.0371          5   77.6019             2  114.544   \n",
       "3    2002    Maryland  75.2758         20   73.3263            16  113.167   \n",
       "4    2002     Florida  71.8971         84   69.5612            95  110.418   \n",
       "\n",
       "   RankOE    AdjOE  RankAdjOE       DE  RankDE    AdjDE  RankAdjDE    AdjEM  \\\n",
       "0       1  121.374          1  90.2544       4  87.3522          2  34.0220   \n",
       "1      10  117.448          7  86.3924       1  86.6033          1  30.8442   \n",
       "2       4  118.100          5  94.4261      39  90.3113          7  27.7883   \n",
       "3       5  118.151          4  94.3706      36  91.2974         12  26.8534   \n",
       "4      22  115.387         16  91.1250       7  89.6694          5  25.7176   \n",
       "\n",
       "   RankAdjEM  seed  \n",
       "0          1   1.0  \n",
       "1          2   1.0  \n",
       "2          3   1.0  \n",
       "3          4   1.0  \n",
       "4          5   5.0  "
      ]
     },
     "execution_count": 91,
     "metadata": {},
     "output_type": "execute_result"
    }
   ],
   "source": [
    "# Read in Rating Datasets\n",
    "nums = ['0'+str(i) for i in range(2,10)] + [str(i) for i in range(10,19)]\n",
    "data = pd.DataFrame()\n",
    "for num in nums: \n",
    "    data = data.append(pd.read_csv('data/pomeroy_ratings/summary{}_pt.csv'.format(num)))\n",
    "    \n",
    "data.head()"
   ]
  },
  {
   "cell_type": "code",
   "execution_count": 92,
   "metadata": {
    "collapsed": true
   },
   "outputs": [],
   "source": [
    "# Get Average AdjEM for Each Seed\n",
    "seed_avg_EM = []\n",
    "seed_sd_EM = []\n",
    "for i in range(1,17):\n",
    "    temp_df = data[data['seed']==i]\n",
    "    seed_avg_EM.append(np.mean(temp_df['AdjEM']))\n",
    "    seed_sd_EM.append(np.std(temp_df['AdjEM']))"
   ]
  },
  {
   "cell_type": "code",
   "execution_count": 112,
   "metadata": {},
   "outputs": [
    {
     "data": {
      "image/png": "[encoded data removed]",
      "text/plain": [
       "<Figure size 576x360 with 1 Axes>"
      ]
     },
     "metadata": {},
     "output_type": "display_data"
    }
   ],
   "source": [
    "lower = np.array(seed_avg_EM) - np.array(np.multiply(seed_sd_EM, 1.996)) # 95% CI w/ t-dist\n",
    "upper = np.array(seed_avg_EM) + np.array(np.multiply(seed_sd_EM, 1.996))\n",
    "\n",
    "fig, ax = plt.subplots(1,1,figsize=(8,5))\n",
    "\n",
    "#plt.style.use('seaborn-notebook')\n",
    "\n",
    "ax.plot(seed_avg_EM, color='blue')\n",
    "#ax.plot(lower, color='lightblue')\n",
    "#ax.plot(upper, color='lightblue')\n",
    "\n",
    "ax.fill_between(range(16),lower, seed_avg_EM, color='lightblue', alpha=.3)\n",
    "ax.fill_between(range(16),upper, seed_avg_EM, color='lightblue', alpha=.3)\n",
    "\n",
    "ax.set_xticks(range(16))\n",
    "ax.set_xticklabels(range(1,17), fontsize=14)\n",
    "\n",
    "#ax.set_facecolor('w')\n",
    "\n",
    "plt.show()"
   ]
  },
  {
   "cell_type": "code",
   "execution_count": 80,
   "metadata": {},
   "outputs": [
    {
     "name": "stdout",
     "output_type": "stream",
     "text": [
      "Difference in Avg EdjEM of 1 seeds and 8/9 seeds is:  12.222581102941177\n",
      "Difference in Avg EdjEM of 2 seeds and 10 seeds is:  9.1635175\n",
      "Ratio of these two:  1.333830715436641\n"
     ]
    }
   ],
   "source": [
    "def difficulty(seed1, seed2):\n",
    "    return seed_avg_EM[seed1-1]-seed_avg_EM[seed2-1]\n",
    "\n",
    "# Get Difference in AdjEM of 1-8/9 seeds and 2-10 Seeds\n",
    "eightnine = (seed_avg_EM[8-1] + seed_avg_EM[9-1])/2\n",
    "print('Difference in Avg EdjEM of 1 seeds and 8/9 seeds is: ', seed_avg_EM[1-1]-eightnine)\n",
    "print('Difference in Avg EdjEM of 2 seeds and 10 seeds is: ', difficulty(2,10))\n",
    "print('Ratio of these two: ', (seed_avg_EM[1-1]-eightnine)/difficulty(2,10))\n",
    "\n"
   ]
  },
  {
   "cell_type": "code",
   "execution_count": 27,
   "metadata": {},
   "outputs": [
    {
     "data": {
      "text/plain": [
       "(68, 17)"
      ]
     },
     "execution_count": 27,
     "metadata": {},
     "output_type": "execute_result"
    }
   ],
   "source": [
    "data[data['seed']==2].shape"
   ]
  },
  {
   "cell_type": "code",
   "execution_count": null,
   "metadata": {
    "collapsed": true
   },
   "outputs": [],
   "source": []
  }
 ],
 "metadata": {
  "kernelspec": {
   "display_name": "Python 3",
   "language": "python",
   "name": "python3"
  },
  "language_info": {
   "codemirror_mode": {
    "name": "ipython",
    "version": 3
   },
   "file_extension": ".py",
   "mimetype": "text/x-python",
   "name": "python",
   "nbconvert_exporter": "python",
   "pygments_lexer": "ipython3",
   "version": "3.6.6"
  }
 },
 "nbformat": 4,
 "nbformat_minor": 2
}
